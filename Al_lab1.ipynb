{
  "nbformat": 4,
  "nbformat_minor": 0,
  "metadata": {
    "colab": {
      "provenance": [],
      "authorship_tag": "ABX9TyPnh8VodSWqwTTlbpHB6JhW",
      "include_colab_link": true
    },
    "kernelspec": {
      "name": "python3",
      "display_name": "Python 3"
    },
    "language_info": {
      "name": "python"
    }
  },
  "cells": [
    {
      "cell_type": "markdown",
      "metadata": {
        "id": "view-in-github",
        "colab_type": "text"
      },
      "source": [
        "<a href=\"https://colab.research.google.com/github/Mostafizur979/Artificial-Intelligence-Lab/blob/main/Al_lab1.ipynb\" target=\"_parent\"><img src=\"https://colab.research.google.com/assets/colab-badge.svg\" alt=\"Open In Colab\"/></a>"
      ]
    },
    {
      "cell_type": "code",
      "execution_count": null,
      "metadata": {
        "colab": {
          "base_uri": "https://localhost:8080/"
        },
        "id": "IcNMYZJSYWZf",
        "outputId": "c7f42e80-8aed-4cdf-88ea-4b67c2fc3729"
      },
      "outputs": [
        {
          "output_type": "stream",
          "name": "stdout",
          "text": [
            "[1, 2, 3, 4, 5, 6]\n",
            "[1, 2, 3, 4, 5, 6, 7]\n"
          ]
        }
      ],
      "source": [
        "#create a list\n",
        "lst=[1,2,3,4,5,6]\n",
        "print(lst)\n",
        "lst.append(7)\n",
        "print(lst)\n"
      ]
    },
    {
      "cell_type": "code",
      "source": [
        "# add item in specific position\n",
        "print(\"Before insert lst: \",lst)\n",
        "lst.insert(0,2)\n",
        "lst.insert(9,1)\n",
        "print(\"After insert lst: \",lst)\n"
      ],
      "metadata": {
        "colab": {
          "base_uri": "https://localhost:8080/"
        },
        "id": "Yacmf3UWYs3E",
        "outputId": "379e7bee-8eeb-4b07-f9aa-f6d46e53ce0f"
      },
      "execution_count": null,
      "outputs": [
        {
          "output_type": "stream",
          "name": "stdout",
          "text": [
            "Before insert lst:  [1, 2, 3, 4, 5, 6, 7]\n",
            "After insert lst:  [2, 1, 2, 3, 4, 5, 6, 7, 1]\n"
          ]
        }
      ]
    },
    {
      "cell_type": "code",
      "source": [
        "#sorted\n",
        "lst1=sorted(lst)\n",
        "print(\"After sorted using sorted method-lst: \",lst)\n",
        "print(\"After sorted using sorted method-lst1: \",lst1)\n",
        "\n",
        "# sort\n",
        "lst.sort()\n",
        "print(\"After sorted using sort method-lst: \",lst)\n"
      ],
      "metadata": {
        "colab": {
          "base_uri": "https://localhost:8080/"
        },
        "id": "c1uoNrBRaC7c",
        "outputId": "2c13ed16-7e6f-42ab-fb65-a869a877b4c8"
      },
      "execution_count": null,
      "outputs": [
        {
          "output_type": "stream",
          "name": "stdout",
          "text": [
            "After sorted using sorted method-lst:  [2, 1, 2, 3, 4, 5, 6, 7, 1]\n",
            "After sorted using sorted method-lst1:  [1, 1, 2, 2, 3, 4, 5, 6, 7]\n",
            "After sorted using sort method-lst:  [1, 1, 2, 2, 3, 4, 5, 6, 7]\n"
          ]
        }
      ]
    },
    {
      "cell_type": "code",
      "source": [
        "#reverse\n",
        "lst=[1,2,3,4,5,6]\n",
        "lst.reverse()\n",
        "print(lst)\n",
        "#update\n",
        "lst[2]=100\n",
        "print(lst)\n",
        "#delete\n",
        "lst.pop()\n",
        "print(lst)\n",
        "lst.remove(100)\n",
        "print(lst)\n"
      ],
      "metadata": {
        "colab": {
          "base_uri": "https://localhost:8080/"
        },
        "id": "pKPMD6AbbLmU",
        "outputId": "dd520258-97e1-47ac-a68f-03777cd00151"
      },
      "execution_count": null,
      "outputs": [
        {
          "output_type": "stream",
          "name": "stdout",
          "text": [
            "[6, 5, 4, 3, 2, 1]\n",
            "[6, 5, 100, 3, 2, 1]\n",
            "[6, 5, 100, 3, 2]\n",
            "[6, 5, 3, 2]\n"
          ]
        }
      ]
    },
    {
      "cell_type": "code",
      "source": [
        "# program 1 - swap first and last elements of the list\n",
        "\n",
        "ln=int(input(\"Enter the length of the list: \"))\n",
        "\n",
        "lst=[]\n",
        "\n",
        "for i in range(0,ln):\n",
        "  value=int(input(\"Enter the elements of the list: \"))\n",
        "  lst.append(value)\n",
        "tmp=lst[ln-1]\n",
        "lst[ln-1]=lst[0]\n",
        "lst[0]=tmp\n",
        "print(lst)"
      ],
      "metadata": {
        "colab": {
          "base_uri": "https://localhost:8080/"
        },
        "id": "90-NG7BPbs21",
        "outputId": "51f7d861-7b6d-4e0b-a04d-c7ae8ccc6b90"
      },
      "execution_count": null,
      "outputs": [
        {
          "output_type": "stream",
          "name": "stdout",
          "text": [
            "Enter the length of the list: 4\n",
            "Enter the elements of the list: 1\n",
            "Enter the elements of the list: 2\n",
            "Enter the elements of the list: 3\n",
            "Enter the elements of the list: 4\n",
            "[4, 2, 3, 1]\n"
          ]
        }
      ]
    },
    {
      "cell_type": "code",
      "source": [
        "# program 2 - reverse a string\n",
        "name=input(\"Enter the name: \")\n",
        "rev_name=[i for i in name]\n",
        "ln=len(rev_name)\n",
        "\n",
        "for i in range(1,ln+1):\n",
        "  print(rev_name[-i],end=\"\")\n"
      ],
      "metadata": {
        "colab": {
          "base_uri": "https://localhost:8080/"
        },
        "id": "F10A_FT-bvyE",
        "outputId": "79a6774a-f234-4eb2-b3cb-dc894c1f60c1"
      },
      "execution_count": null,
      "outputs": [
        {
          "output_type": "stream",
          "name": "stdout",
          "text": [
            "Enter the name: naeem\n",
            "meean"
          ]
        }
      ]
    },
    {
      "cell_type": "code",
      "source": [
        "#open a txt file and read single line\n",
        "f=open('ai.txt','r')\n",
        "print(f.readline())"
      ],
      "metadata": {
        "colab": {
          "base_uri": "https://localhost:8080/"
        },
        "id": "W9P2ztF_cEGk",
        "outputId": "e87bd202-1a9b-4793-dccb-4c09f6938777"
      },
      "execution_count": null,
      "outputs": [
        {
          "output_type": "stream",
          "name": "stdout",
          "text": [
            "Mostafizur Rahman\n",
            "\n"
          ]
        }
      ]
    },
    {
      "cell_type": "code",
      "source": [
        "print(f.readline())\n",
        "f.close()"
      ],
      "metadata": {
        "colab": {
          "base_uri": "https://localhost:8080/"
        },
        "id": "AEyDHfHfctA2",
        "outputId": "97683968-afb2-4031-d347-f5ea6186e680"
      },
      "execution_count": null,
      "outputs": [
        {
          "output_type": "stream",
          "name": "stdout",
          "text": [
            "ID: 212-15-4130\n",
            "\n"
          ]
        }
      ]
    },
    {
      "cell_type": "code",
      "source": [
        "#open a txt file and read all line\n",
        "f=open('ai.txt','r')\n",
        "print(f.read())\n",
        "f.close()"
      ],
      "metadata": {
        "colab": {
          "base_uri": "https://localhost:8080/"
        },
        "id": "3myVF2ukc5jU",
        "outputId": "8a2c6a5c-9255-4b58-bc5b-9394f7396429"
      },
      "execution_count": null,
      "outputs": [
        {
          "output_type": "stream",
          "name": "stdout",
          "text": [
            "Mostafizur Rahman\n",
            "ID: 212-15-4130\n",
            "Section: 59_A\n",
            "Dept. of CSE\n",
            "\n"
          ]
        }
      ]
    },
    {
      "cell_type": "code",
      "source": [
        "#write something at the end\n",
        "f = open(\"ai.txt\", \"a\")\n",
        "f.write(\"Daffodil International University\")\n",
        "f.close()\n",
        "\n",
        "f = open(\"ai.txt\", \"r\")\n",
        "print(f.read())\n",
        "f.close()"
      ],
      "metadata": {
        "colab": {
          "base_uri": "https://localhost:8080/"
        },
        "id": "etXFWdScdi3K",
        "outputId": "5c1be28d-5a59-4b50-fb78-f809af1798c6"
      },
      "execution_count": 48,
      "outputs": [
        {
          "output_type": "stream",
          "name": "stdout",
          "text": [
            "Mostafizur Rahman\n",
            "ID: 212-15-4130\n",
            "Section: 59_A\n",
            "Dept. of CSE\n",
            "Daffodil International University\n"
          ]
        }
      ]
    },
    {
      "cell_type": "code",
      "source": [
        "#over write\n",
        "f = open(\"ai.txt\", \"w\")\n",
        "f.write(\"Daffodil International University\")\n",
        "f.close()\n",
        "\n",
        "f = open(\"ai.txt\", \"r\")\n",
        "print(f.read())\n",
        "f.close()"
      ],
      "metadata": {
        "colab": {
          "base_uri": "https://localhost:8080/"
        },
        "id": "4hF5T3lWd_ft",
        "outputId": "ad5161a1-c91d-452d-b6b4-2b664fdbdd30"
      },
      "execution_count": 49,
      "outputs": [
        {
          "output_type": "stream",
          "name": "stdout",
          "text": [
            "Daffodil International University\n"
          ]
        }
      ]
    }
  ]
}